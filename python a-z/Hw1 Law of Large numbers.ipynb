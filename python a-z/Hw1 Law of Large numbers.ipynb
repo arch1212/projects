{
 "cells": [
  {
   "cell_type": "code",
   "execution_count": 4,
   "metadata": {
    "collapsed": true
   },
   "outputs": [],
   "source": [
    "import numpy as np\n",
    "from numpy.random import randn"
   ]
  },
  {
   "cell_type": "markdown",
   "metadata": {},
   "source": [
    "---"
   ]
  },
  {
   "cell_type": "code",
   "execution_count": 60,
   "metadata": {},
   "outputs": [
    {
     "name": "stdout",
     "output_type": "stream",
     "text": [
      "The mean number of observations between -1 and +1:  0.8\n"
     ]
    }
   ],
   "source": [
    "N = 10\n",
    "counter = 0\n",
    "for i in randn(N):\n",
    "    if i >= -1 and i <= 1:\n",
    "        counter += 1\n",
    "print(\"The mean number of observations between -1 and +1: \", counter/N)"
   ]
  },
  {
   "cell_type": "code",
   "execution_count": 59,
   "metadata": {},
   "outputs": [
    {
     "name": "stdout",
     "output_type": "stream",
     "text": [
      "The mean number of observations between -1 and +1:  0.66\n"
     ]
    }
   ],
   "source": [
    "N = 100\n",
    "counter = 0\n",
    "for i in randn(N):\n",
    "    if i >= -1 and i <= 1:\n",
    "        counter += 1\n",
    "print(\"The mean number of observations between -1 and +1: \", counter/N)"
   ]
  },
  {
   "cell_type": "code",
   "execution_count": 61,
   "metadata": {},
   "outputs": [
    {
     "name": "stdout",
     "output_type": "stream",
     "text": [
      "The mean number of observations between -1 and +1:  0.671\n"
     ]
    }
   ],
   "source": [
    "N = 1000\n",
    "counter = 0\n",
    "for i in randn(N):\n",
    "    if i >= -1 and i <= 1:\n",
    "        counter += 1\n",
    "print(\"The mean number of observations between -1 and +1: \", counter/N)"
   ]
  },
  {
   "cell_type": "code",
   "execution_count": 62,
   "metadata": {},
   "outputs": [
    {
     "name": "stdout",
     "output_type": "stream",
     "text": [
      "The mean number of observations between -1 and +1:  0.6871\n"
     ]
    }
   ],
   "source": [
    "N = 10000\n",
    "counter = 0\n",
    "for i in randn(N):\n",
    "    if i >= -1 and i <= 1:\n",
    "        counter += 1\n",
    "print(\"The mean number of observations between -1 and +1: \", counter/N)"
   ]
  },
  {
   "cell_type": "code",
   "execution_count": 63,
   "metadata": {},
   "outputs": [
    {
     "name": "stdout",
     "output_type": "stream",
     "text": [
      "The mean number of observations between -1 and +1:  0.68471\n"
     ]
    }
   ],
   "source": [
    "N = 100000\n",
    "counter = 0\n",
    "for i in randn(N):\n",
    "    if i >= -1 and i <= 1:\n",
    "        counter += 1\n",
    "print(\"The mean number of observations between -1 and +1: \", counter/N)"
   ]
  }
 ],
 "metadata": {
  "kernelspec": {
   "display_name": "Python 3",
   "language": "python",
   "name": "python3"
  },
  "language_info": {
   "codemirror_mode": {
    "name": "ipython",
    "version": 3
   },
   "file_extension": ".py",
   "mimetype": "text/x-python",
   "name": "python",
   "nbconvert_exporter": "python",
   "pygments_lexer": "ipython3",
   "version": "3.6.3"
  }
 },
 "nbformat": 4,
 "nbformat_minor": 2
}
